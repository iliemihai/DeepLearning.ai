{
 "cells": [
  {
   "cell_type": "code",
   "execution_count": 1,
   "metadata": {},
   "outputs": [
    {
     "name": "stdout",
     "output_type": "stream",
     "text": [
      "[1 2 3 4]\n",
      "Vectorized version: 1.3804435729980469 ms\n",
      "Non vectorized version: 490.4148578643799 ms\n"
     ]
    }
   ],
   "source": [
    "import numpy as np\n",
    "import time\n",
    "\n",
    "a = np.array([1,2,3,4])\n",
    "print (a)\n",
    "\n",
    "b = np.random.rand(1000000)\n",
    "c = np.random.rand(1000000)\n",
    "\n",
    "#current time\n",
    "tic = time.time()\n",
    "d = np.dot(b,c)\n",
    "tac = time.time()\n",
    "\n",
    "print(\"Vectorized version: \" + str(1000*(tac-tic)) + \" ms\")\n",
    "\n",
    "tic = time.time()\n",
    "res = 0\n",
    "for i in range(1000000):\n",
    "    res += b[i]*c[i]\n",
    "tac = time.time()\n",
    "\n",
    "print(\"Non vectorized version: \" + str(1000*(tac-tic)) + \" ms\")"
   ]
  },
  {
   "cell_type": "code",
   "execution_count": 7,
   "metadata": {},
   "outputs": [
    {
     "name": "stdout",
     "output_type": "stream",
     "text": [
      "[[ 56.    0.    4.4  64. ]\n",
      " [  1.    4.   56.   13. ]\n",
      " [ 32.   44.   16.   23. ]]\n",
      "[  89.    48.    76.4  100. ]\n",
      "[[ 62.92134831   0.           5.7591623   64.        ]\n",
      " [  1.12359551   8.33333333  73.29842932  13.        ]\n",
      " [ 35.95505618  91.66666667  20.94240838  23.        ]]\n"
     ]
    }
   ],
   "source": [
    "#broadcasting\n",
    "A = np.array([[56,0,4.4, 64.0],[1,4,56,13],[32,44,16,23]])\n",
    "print(A)\n",
    "\n",
    "cal = A.sum(axis=0)\n",
    "print(cal)\n",
    "percentage = 100*A/cal.reshape(1,4)\n",
    "print(percentage)"
   ]
  },
  {
   "cell_type": "code",
   "execution_count": 34,
   "metadata": {},
   "outputs": [
    {
     "name": "stdout",
     "output_type": "stream",
     "text": [
      "(5,) rank 1 array\n",
      "[ 0.19990278  0.35838773  0.03324579  0.65891083  0.37227649]\n",
      "1.0\n",
      "(5, 1) rank 1 array\n",
      "[[ 0.89354741  0.35512041  0.68111601  0.58646318  0.58370678]]\n",
      "[[ 0.89354741]\n",
      " [ 0.35512041]\n",
      " [ 0.68111601]\n",
      " [ 0.58646318]\n",
      " [ 0.58370678]]\n",
      "[[ 0.38513503  0.1530633   0.29357327  0.2527762   0.25158814]\n",
      " [ 0.1530633   0.06083158  0.11667413  0.10046024  0.09998807]\n",
      " [ 0.29357327  0.11667413  0.22377935  0.19268134  0.19177573]\n",
      " [ 0.2527762   0.10046024  0.19268134  0.16590495  0.16512519]\n",
      " [ 0.25158814  0.09998807  0.19177573  0.16512519  0.16434909]]\n"
     ]
    }
   ],
   "source": [
    "a = np.random.rand(5)\n",
    "print(str(a.shape) + \" rank 1 array\") # DO NOT USE THIS FORM\n",
    "print(a.T)\n",
    "print(np.dot(a, a.T)/(np.linalg.norm(a)*np.linalg.norm(a.T)))\n",
    "\n",
    "a = np.random.rand(5,1)\n",
    "print(str(a.shape) + \" rank 1 array\") # USE THIS FORM\n",
    "print(a.T)\n",
    "print(a)\n",
    "print(np.dot(a, a.T)/(np.linalg.norm(a)*np.linalg.norm(a.T)))"
   ]
  }
 ],
 "metadata": {
  "kernelspec": {
   "display_name": "Python 3",
   "language": "python",
   "name": "python3"
  },
  "language_info": {
   "codemirror_mode": {
    "name": "ipython",
    "version": 3
   },
   "file_extension": ".py",
   "mimetype": "text/x-python",
   "name": "python",
   "nbconvert_exporter": "python",
   "pygments_lexer": "ipython3",
   "version": "3.5.2"
  }
 },
 "nbformat": 4,
 "nbformat_minor": 2
}
